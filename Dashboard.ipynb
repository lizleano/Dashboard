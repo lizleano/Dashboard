{
 "cells": [
  {
   "cell_type": "markdown",
   "metadata": {},
   "source": [
    "# Dashboard\n",
    "\n",
    "In this project, we created a Weather dashboard which navigates through individual pages for each plot containing visualizations and corresponding explanations.  \n",
    "\n",
    "We started with a landing page where we can see comparison of all the plots and a data page where we can view the data used to build them.\n",
    "\n",
    "URL: https://lizleano.github.io/Dashboard/views/landingpage.html"
   ]
  }
 ],
 "metadata": {
  "kernelspec": {
   "display_name": "Python [conda env:PythonData]",
   "language": "python",
   "name": "conda-env-PythonData-py"
  },
  "language_info": {
   "codemirror_mode": {
    "name": "ipython",
    "version": 3
   },
   "file_extension": ".py",
   "mimetype": "text/x-python",
   "name": "python",
   "nbconvert_exporter": "python",
   "pygments_lexer": "ipython3",
   "version": "3.6.1"
  }
 },
 "nbformat": 4,
 "nbformat_minor": 2
}
